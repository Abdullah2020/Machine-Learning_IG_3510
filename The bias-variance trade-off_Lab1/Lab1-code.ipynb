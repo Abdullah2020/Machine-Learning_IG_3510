{
 "cells": [
  {
   "cell_type": "code",
   "execution_count": 1,
   "metadata": {},
   "outputs": [],
   "source": [
    "import os"
   ]
  },
  {
   "cell_type": "code",
   "execution_count": null,
   "metadata": {},
   "outputs": [],
   "source": [
    "os.getcwd()"
   ]
  },
  {
   "cell_type": "code",
   "execution_count": 3,
   "metadata": {},
   "outputs": [],
   "source": []
  },
  {
   "cell_type": "code",
   "execution_count": 1,
   "metadata": {},
   "outputs": [],
   "source": [
    "import pandas \n",
    "data_train=pandas.read_csv('train.txt', sep=';')"
   ]
  },
  {
   "cell_type": "code",
   "execution_count": 5,
   "metadata": {},
   "outputs": [
    {
     "data": {
      "text/html": [
       "<div>\n",
       "<style scoped>\n",
       "    .dataframe tbody tr th:only-of-type {\n",
       "        vertical-align: middle;\n",
       "    }\n",
       "\n",
       "    .dataframe tbody tr th {\n",
       "        vertical-align: top;\n",
       "    }\n",
       "\n",
       "    .dataframe thead th {\n",
       "        text-align: right;\n",
       "    }\n",
       "</style>\n",
       "<table border=\"1\" class=\"dataframe\">\n",
       "  <thead>\n",
       "    <tr style=\"text-align: right;\">\n",
       "      <th></th>\n",
       "      <th>X</th>\n",
       "      <th>Y</th>\n",
       "    </tr>\n",
       "  </thead>\n",
       "  <tbody>\n",
       "    <tr>\n",
       "      <th>0</th>\n",
       "      <td>0.1</td>\n",
       "      <td>0.398093</td>\n",
       "    </tr>\n",
       "    <tr>\n",
       "      <th>1</th>\n",
       "      <td>0.2</td>\n",
       "      <td>0.848102</td>\n",
       "    </tr>\n",
       "    <tr>\n",
       "      <th>2</th>\n",
       "      <td>0.3</td>\n",
       "      <td>0.747736</td>\n",
       "    </tr>\n",
       "    <tr>\n",
       "      <th>3</th>\n",
       "      <td>0.4</td>\n",
       "      <td>0.750563</td>\n",
       "    </tr>\n",
       "    <tr>\n",
       "      <th>4</th>\n",
       "      <td>0.5</td>\n",
       "      <td>-0.063083</td>\n",
       "    </tr>\n",
       "    <tr>\n",
       "      <th>5</th>\n",
       "      <td>0.6</td>\n",
       "      <td>-0.668985</td>\n",
       "    </tr>\n",
       "    <tr>\n",
       "      <th>6</th>\n",
       "      <td>0.7</td>\n",
       "      <td>-1.045593</td>\n",
       "    </tr>\n",
       "    <tr>\n",
       "      <th>7</th>\n",
       "      <td>0.8</td>\n",
       "      <td>-0.882890</td>\n",
       "    </tr>\n",
       "    <tr>\n",
       "      <th>8</th>\n",
       "      <td>0.9</td>\n",
       "      <td>-0.677255</td>\n",
       "    </tr>\n",
       "    <tr>\n",
       "      <th>9</th>\n",
       "      <td>1.0</td>\n",
       "      <td>-0.176933</td>\n",
       "    </tr>\n",
       "  </tbody>\n",
       "</table>\n",
       "</div>"
      ],
      "text/plain": [
       "     X         Y\n",
       "0  0.1  0.398093\n",
       "1  0.2  0.848102\n",
       "2  0.3  0.747736\n",
       "3  0.4  0.750563\n",
       "4  0.5 -0.063083\n",
       "5  0.6 -0.668985\n",
       "6  0.7 -1.045593\n",
       "7  0.8 -0.882890\n",
       "8  0.9 -0.677255\n",
       "9  1.0 -0.176933"
      ]
     },
     "execution_count": 5,
     "metadata": {},
     "output_type": "execute_result"
    }
   ],
   "source": [
    "data_train"
   ]
  },
  {
   "cell_type": "code",
   "execution_count": 2,
   "metadata": {},
   "outputs": [
    {
     "data": {
      "text/plain": [
       "(10, 2)"
      ]
     },
     "execution_count": 2,
     "metadata": {},
     "output_type": "execute_result"
    }
   ],
   "source": [
    "data_train.shape # to get number of obs and variables"
   ]
  },
  {
   "cell_type": "code",
   "execution_count": 3,
   "metadata": {},
   "outputs": [
    {
     "data": {
      "image/png": "[encoded data removed]",
      "text/plain": [
       "<Figure size 432x288 with 1 Axes>"
      ]
     },
     "metadata": {
      "needs_background": "light"
     },
     "output_type": "display_data"
    }
   ],
   "source": [
    "import matplotlib.pyplot as plt\n",
    "plt.plot(data_train.X,data_train.Y,'bo') \n",
    "plt.show()"
   ]
  },
  {
   "cell_type": "code",
   "execution_count": null,
   "metadata": {},
   "outputs": [],
   "source": [
    "#The curve shows that..."
   ]
  },
  {
   "cell_type": "code",
   "execution_count": 4,
   "metadata": {},
   "outputs": [],
   "source": [
    "import numpy as np"
   ]
  },
  {
   "cell_type": "code",
   "execution_count": 5,
   "metadata": {},
   "outputs": [],
   "source": [
    "fit=np.polyfit(data_train.X,data_train.Y,deg=2,full=True)"
   ]
  },
  {
   "cell_type": "code",
   "execution_count": 6,
   "metadata": {},
   "outputs": [
    {
     "data": {
      "text/plain": [
       "(array([ 2.127715  , -4.15868198,  1.39108041]),\n",
       " array([1.78879032]),\n",
       " 3,\n",
       " array([1.65809069, 0.4940441 , 0.08158236]),\n",
       " 2.220446049250313e-15)"
      ]
     },
     "execution_count": 6,
     "metadata": {},
     "output_type": "execute_result"
    }
   ],
   "source": [
    "fit"
   ]
  },
  {
   "cell_type": "code",
   "execution_count": 11,
   "metadata": {},
   "outputs": [
    {
     "data": {
      "text/plain": [
       "array([ 2.127715  , -4.15868198,  1.39108041])"
      ]
     },
     "execution_count": 11,
     "metadata": {},
     "output_type": "execute_result"
    }
   ],
   "source": [
    "fit[0]"
   ]
  },
  {
   "cell_type": "code",
   "execution_count": 12,
   "metadata": {},
   "outputs": [
    {
     "data": {
      "text/plain": [
       "array([1.78879032])"
      ]
     },
     "execution_count": 12,
     "metadata": {},
     "output_type": "execute_result"
    }
   ],
   "source": [
    "fit[1]"
   ]
  },
  {
   "cell_type": "code",
   "execution_count": null,
   "metadata": {},
   "outputs": [],
   "source": []
  },
  {
   "cell_type": "code",
   "execution_count": 7,
   "metadata": {},
   "outputs": [
    {
     "data": {
      "text/plain": [
       "array([ 0.99648936,  0.64445261,  0.33497016,  0.06804201, -0.15633183,\n",
       "       -0.33815138, -0.47741663, -0.57412758, -0.62828423, -0.63988658])"
      ]
     },
     "execution_count": 7,
     "metadata": {},
     "output_type": "execute_result"
    }
   ],
   "source": [
    "np.polyval(fit[0],data_train.X) #f^"
   ]
  },
  {
   "cell_type": "code",
   "execution_count": 8,
   "metadata": {},
   "outputs": [
    {
     "name": "stdout",
     "output_type": "stream",
     "text": [
      "0.1\n",
      "1.0\n",
      "-1.04559259482922\n",
      "0.848102488670069\n"
     ]
    }
   ],
   "source": [
    "print(min(data_train.X))\n",
    "print(max(data_train.X))\n",
    "print(min(data_train.Y))\n",
    "print(max(data_train.Y))"
   ]
  },
  {
   "cell_type": "code",
   "execution_count": 10,
   "metadata": {},
   "outputs": [],
   "source": [
    "xp = np.linspace(0,1,100)"
   ]
  },
  {
   "cell_type": "code",
   "execution_count": 11,
   "metadata": {},
   "outputs": [
    {
     "data": {
      "text/plain": [
       "<matplotlib.legend.Legend at 0x11bfd45e0>"
      ]
     },
     "execution_count": 11,
     "metadata": {},
     "output_type": "execute_result"
    },
    {
     "data": {
      "image/png": "[encoded data removed]",
      "text/plain": [
       "<Figure size 432x288 with 1 Axes>"
      ]
     },
     "metadata": {
      "needs_background": "light"
     },
     "output_type": "display_data"
    }
   ],
   "source": [
    "colors=['black', 'red', 'green', 'blue', 'yellow']\n",
    "c=1\n",
    "for i in [1,2,5,9]:\n",
    "    fit=np.polyfit(data_train.X,data_train.Y,deg=i,full=True)\n",
    "    y=np.polyval(fit[0],xp)\n",
    "    plt.plot(xp,y,'-',color=colors[c])\n",
    "    c+=1\n",
    "plt.ylim([-1, 1])\n",
    "plt.xlim([0, 1])\n",
    "plt.plot(data_train.X,data_train.Y,'bo',color='black')\n",
    "plt.legend((\"p=1\",\"p=2\",\"p=5\",\"p=9\",\"real\"),loc='upper right', shadow=True)"
   ]
  },
  {
   "cell_type": "code",
   "execution_count": 12,
   "metadata": {},
   "outputs": [
    {
     "name": "stdout",
     "output_type": "stream",
     "text": [
      "[0.45031377466010086, 0.42294093230754176, 0.13679395647261208, 0.11855064158026694, 0.08693090710700072, 0.0848964015818739, 0.05338841902168196, 0.041567242435710555, 0]\n",
      "[0.5101287959402844, 0.4889744212238899, 0.30541638122926557, 0.35286874366279813, 0.27025248966305865, 0.2681678105242588, 0.6124591975314131, 1.2282767876597898, 4.63740662586401]\n"
     ]
    }
   ],
   "source": [
    "train_errors=[]\n",
    "test_errors=[]\n",
    "N = len(data_train)\n",
    "data_test=pandas.read_csv('test.txt', sep=';')\n",
    "for i in range(1,9):\n",
    "    fit=np.polyfit(data_train.X,data_train.Y,deg=i,full=True)\n",
    "    train_error = np.sqrt(fit[1][0]/N)\n",
    "    train_errors.append(train_error)\n",
    "    yhat = np.polyval(fit[0],data_test.X_test)\n",
    "    test_error = np.sqrt(np.sum((yhat-data_test.Y_test)**2)/N)\n",
    "    test_errors.append(test_error)\n",
    "# for p=9 the train error is 0, then the command \"fit[1][0]\" is empty\n",
    "i=9\n",
    "fit=np.polyfit(data_train.X,data_train.Y,deg=i,full=True)\n",
    "train_error =0\n",
    "train_errors.append(train_error)\n",
    "yhat = np.polyval(fit[0],data_test.X_test)\n",
    "test_error = np.sqrt(np.sum((yhat-data_test.Y_test)**2)/N)\n",
    "test_errors.append(test_error)\n",
    "print(train_errors)\n",
    "print(test_errors)"
   ]
  },
  {
   "cell_type": "code",
   "execution_count": null,
   "metadata": {},
   "outputs": [],
   "source": []
  },
  {
   "cell_type": "code",
   "execution_count": 13,
   "metadata": {},
   "outputs": [
    {
     "data": {
      "text/plain": [
       "<matplotlib.legend.Legend at 0x11c128670>"
      ]
     },
     "execution_count": 13,
     "metadata": {},
     "output_type": "execute_result"
    },
    {
     "data": {
      "image/png": "[encoded data removed]",
      "text/plain": [
       "<Figure size 432x288 with 1 Axes>"
      ]
     },
     "metadata": {
      "needs_background": "light"
     },
     "output_type": "display_data"
    }
   ],
   "source": [
    "#MSE error plot\n",
    "plt.plot(range(1,9),train_errors[:8],'-',color='blue')\n",
    "plt.plot(range(1,9),test_errors[:8],'-',color='red')\n",
    "plt.legend((\"train error\",\"test error\"),loc='upper right', shadow=True)"
   ]
  },
  {
   "cell_type": "code",
   "execution_count": 21,
   "metadata": {},
   "outputs": [
    {
     "data": {
      "text/plain": [
       "5"
      ]
     },
     "execution_count": 21,
     "metadata": {},
     "output_type": "execute_result"
    }
   ],
   "source": [
    "np.argmin(test_errors)"
   ]
  },
  {
   "cell_type": "code",
   "execution_count": 49,
   "metadata": {},
   "outputs": [
    {
     "data": {
      "text/plain": [
       "[0.5101287959402844,\n",
       " 0.48897442122388995,\n",
       " 0.3054163812292692,\n",
       " 0.35286874366280097,\n",
       " 0.2702524896630741,\n",
       " 0.2681678105242427,\n",
       " 0.6124591975319693,\n",
       " 1.228276787675957,\n",
       " 4.637406625606288]"
      ]
     },
     "execution_count": 49,
     "metadata": {},
     "output_type": "execute_result"
    }
   ],
   "source": []
  },
  {
   "cell_type": "code",
   "execution_count": null,
   "metadata": {},
   "outputs": [],
   "source": []
  },
  {
   "cell_type": "code",
   "execution_count": null,
   "metadata": {},
   "outputs": [],
   "source": []
  },
  {
   "cell_type": "code",
   "execution_count": null,
   "metadata": {},
   "outputs": [],
   "source": []
  }
 ],
 "metadata": {
  "kernelspec": {
   "display_name": "Python 3",
   "language": "python",
   "name": "python3"
  },
  "language_info": {
   "codemirror_mode": {
    "name": "ipython",
    "version": 3
   },
   "file_extension": ".py",
   "mimetype": "text/x-python",
   "name": "python",
   "nbconvert_exporter": "python",
   "pygments_lexer": "ipython3",
   "version": "3.8.8"
  }
 },
 "nbformat": 4,
 "nbformat_minor": 2
}
